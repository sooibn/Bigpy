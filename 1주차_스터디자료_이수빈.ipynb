{
  "nbformat": 4,
  "nbformat_minor": 0,
  "metadata": {
    "colab": {
      "provenance": [],
      "authorship_tag": "ABX9TyPSVuQBlP42QywJSP4sz2h5",
      "include_colab_link": true
    },
    "kernelspec": {
      "name": "python3",
      "display_name": "Python 3"
    },
    "language_info": {
      "name": "python"
    }
  },
  "cells": [
    {
      "cell_type": "markdown",
      "metadata": {
        "id": "view-in-github",
        "colab_type": "text"
      },
      "source": [
        "<a href=\"https://colab.research.google.com/github/sooibn/Bigpy/blob/main/1%EC%A3%BC%EC%B0%A8_%EC%8A%A4%ED%84%B0%EB%94%94%EC%9E%90%EB%A3%8C_%EC%9D%B4%EC%88%98%EB%B9%88.ipynb\" target=\"_parent\"><img src=\"https://colab.research.google.com/assets/colab-badge.svg\" alt=\"Open In Colab\"/></a>"
      ]
    },
    {
      "cell_type": "markdown",
      "source": [
        "##Hello World 문자열을 출력하세요."
      ],
      "metadata": {
        "id": "mbqzXTj9AIUp"
      }
    },
    {
      "cell_type": "code",
      "execution_count": null,
      "metadata": {
        "colab": {
          "base_uri": "https://localhost:8080/"
        },
        "id": "Dv4yGVgd8uHX",
        "outputId": "765e4c57-0653-4adc-858c-57bcd2231acf"
      },
      "outputs": [
        {
          "output_type": "stream",
          "name": "stdout",
          "text": [
            "Hello World\n"
          ]
        }
      ],
      "source": [
        "print(\"Hello World\")"
      ]
    },
    {
      "cell_type": "markdown",
      "source": [
        "##숫자 3을 출력하세요."
      ],
      "metadata": {
        "id": "7vEwrOKUAQO3"
      }
    },
    {
      "cell_type": "code",
      "source": [
        "print(3)"
      ],
      "metadata": {
        "colab": {
          "base_uri": "https://localhost:8080/"
        },
        "id": "bP2e0C1N84xl",
        "outputId": "ce6c0fb2-0048-467b-dc81-ad8294a8bb47"
      },
      "execution_count": null,
      "outputs": [
        {
          "output_type": "stream",
          "name": "stdout",
          "text": [
            "3\n"
          ]
        }
      ]
    },
    {
      "cell_type": "markdown",
      "source": [
        "##아래 문자열에서 'P'를 출력하세요.\n",
        "word = \"Python\""
      ],
      "metadata": {
        "id": "XvbuU1fJAS44"
      }
    },
    {
      "cell_type": "code",
      "source": [
        "word = \"Python\"\n",
        "word[0]"
      ],
      "metadata": {
        "colab": {
          "base_uri": "https://localhost:8080/",
          "height": 35
        },
        "id": "OocL6cEa9DYz",
        "outputId": "a9470342-c346-4dd7-93d6-e12b668a86b8"
      },
      "execution_count": null,
      "outputs": [
        {
          "output_type": "execute_result",
          "data": {
            "text/plain": [
              "'P'"
            ],
            "application/vnd.google.colaboratory.intrinsic+json": {
              "type": "string"
            }
          },
          "metadata": {},
          "execution_count": 4
        }
      ]
    },
    {
      "cell_type": "markdown",
      "source": [
        "##name과 age 변수를 사용하여 \"My name is John and I am 25 years old.\"을 출력하세요.\n",
        "name = \"John\" age = 25"
      ],
      "metadata": {
        "id": "M2hlYYY3AXsn"
      }
    },
    {
      "cell_type": "code",
      "source": [
        "name = \"John\"\n",
        "age = 25\n",
        "\"My name is {0} and I am {1} years old.\".format(name, age)"
      ],
      "metadata": {
        "colab": {
          "base_uri": "https://localhost:8080/",
          "height": 35
        },
        "id": "7OhBCxVX9-RZ",
        "outputId": "a3d2f886-af83-44de-c04c-0c63e1cd318a"
      },
      "execution_count": null,
      "outputs": [
        {
          "output_type": "execute_result",
          "data": {
            "text/plain": [
              "'My name is John and I am 25 years old.'"
            ],
            "application/vnd.google.colaboratory.intrinsic+json": {
              "type": "string"
            }
          },
          "metadata": {},
          "execution_count": 8
        }
      ]
    },
    {
      "cell_type": "markdown",
      "source": [
        "##아래 문자열을 공백을 기준으로 나누어 리스트로 변환하세요.\n",
        "sentence = \"Python is a powerful programming language\""
      ],
      "metadata": {
        "id": "r-PYkLqqAeiu"
      }
    },
    {
      "cell_type": "code",
      "source": [
        "sentence = \"Python is a powerful programming language\"\n",
        "sentence.split()"
      ],
      "metadata": {
        "colab": {
          "base_uri": "https://localhost:8080/"
        },
        "id": "6Wg_3GSs_Cu5",
        "outputId": "bc46cb9b-19e6-408d-a5ee-4d8f09047581"
      },
      "execution_count": null,
      "outputs": [
        {
          "output_type": "execute_result",
          "data": {
            "text/plain": [
              "['Python', 'is', 'a', 'powerful', 'programming', 'language']"
            ]
          },
          "metadata": {},
          "execution_count": 38
        }
      ]
    },
    {
      "cell_type": "markdown",
      "source": [
        "##아래 문자열에서 \"Hello\"만 출력하세요.(슬라이싱 활용)\n",
        "sentence = \"Hello, world!\""
      ],
      "metadata": {
        "id": "ghF_RMB4AkNL"
      }
    },
    {
      "cell_type": "code",
      "source": [
        "sentence = \"Hello, world!\"\n",
        "sentence[0:5]"
      ],
      "metadata": {
        "colab": {
          "base_uri": "https://localhost:8080/",
          "height": 35
        },
        "id": "0oHCluHDFZCg",
        "outputId": "2293f5ed-f38d-4d7f-bc2c-2ae6e16d3a69"
      },
      "execution_count": null,
      "outputs": [
        {
          "output_type": "execute_result",
          "data": {
            "text/plain": [
              "'Hello'"
            ],
            "application/vnd.google.colaboratory.intrinsic+json": {
              "type": "string"
            }
          },
          "metadata": {},
          "execution_count": 27
        }
      ]
    },
    {
      "cell_type": "markdown",
      "source": [
        "##아래 문자열의 왼쪽 공백을 제거하세요.\n",
        "text = \"Python is awesome!\""
      ],
      "metadata": {
        "id": "tVnQxZ3NAvwv"
      }
    },
    {
      "cell_type": "code",
      "source": [
        "text = \" Python is awesome!\"\n",
        "text.lstrip()"
      ],
      "metadata": {
        "colab": {
          "base_uri": "https://localhost:8080/",
          "height": 35
        },
        "id": "LHmlmakgGOFZ",
        "outputId": "f610e7b9-defc-4064-fb4e-558b027487ed"
      },
      "execution_count": null,
      "outputs": [
        {
          "output_type": "execute_result",
          "data": {
            "text/plain": [
              "'Python is awesome!'"
            ],
            "application/vnd.google.colaboratory.intrinsic+json": {
              "type": "string"
            }
          },
          "metadata": {},
          "execution_count": 37
        }
      ]
    },
    {
      "cell_type": "markdown",
      "source": [
        "##정수 10을 변수 num에 저장하세요."
      ],
      "metadata": {
        "id": "d-IldUBmA0J6"
      }
    },
    {
      "cell_type": "code",
      "source": [
        "num = 10\n",
        "num"
      ],
      "metadata": {
        "colab": {
          "base_uri": "https://localhost:8080/"
        },
        "id": "qUrQl7d3IiGR",
        "outputId": "9382901a-7f87-472d-d5f3-b359790c7a0f"
      },
      "execution_count": null,
      "outputs": [
        {
          "output_type": "execute_result",
          "data": {
            "text/plain": [
              "10"
            ]
          },
          "metadata": {},
          "execution_count": 29
        }
      ]
    },
    {
      "cell_type": "markdown",
      "source": [
        "##변수 x에서 y를 뺀 결과를 출력하세요.\n",
        "x = 50 y = 23"
      ],
      "metadata": {
        "id": "spdUhj6_A3Yo"
      }
    },
    {
      "cell_type": "code",
      "source": [
        "x = 50\n",
        "y = 23\n",
        "x - y"
      ],
      "metadata": {
        "colab": {
          "base_uri": "https://localhost:8080/"
        },
        "id": "7SMuzOlMImr2",
        "outputId": "50e701e1-6918-451d-a4ee-f8c60dc6c0b5"
      },
      "execution_count": null,
      "outputs": [
        {
          "output_type": "execute_result",
          "data": {
            "text/plain": [
              "27"
            ]
          },
          "metadata": {},
          "execution_count": 30
        }
      ]
    },
    {
      "cell_type": "markdown",
      "source": [
        "##변수 num1을 num2로 나눈 결과를 출력하세요.\n",
        "num1 = 25 num2 = 4"
      ],
      "metadata": {
        "id": "tEFI9DOoCxJM"
      }
    },
    {
      "cell_type": "code",
      "source": [
        "num1 = 25\n",
        "num2 = 4\n",
        "num1 / num2"
      ],
      "metadata": {
        "colab": {
          "base_uri": "https://localhost:8080/"
        },
        "id": "IDBgGa11ItcH",
        "outputId": "59b4c4df-481e-4a62-f5a4-3c506f7bffc1"
      },
      "execution_count": null,
      "outputs": [
        {
          "output_type": "execute_result",
          "data": {
            "text/plain": [
              "6.25"
            ]
          },
          "metadata": {},
          "execution_count": 31
        }
      ]
    },
    {
      "cell_type": "markdown",
      "source": [
        "##2의 5제곱을 계산하여 출력하세요."
      ],
      "metadata": {
        "id": "7quDzWjzC46d"
      }
    },
    {
      "cell_type": "code",
      "source": [
        "2 ** 5"
      ],
      "metadata": {
        "colab": {
          "base_uri": "https://localhost:8080/"
        },
        "id": "lpCgOhdeIzi2",
        "outputId": "3edfc1bd-2bfe-476c-fe77-a7f4f4fe8254"
      },
      "execution_count": null,
      "outputs": [
        {
          "output_type": "execute_result",
          "data": {
            "text/plain": [
              "32"
            ]
          },
          "metadata": {},
          "execution_count": 32
        }
      ]
    },
    {
      "cell_type": "markdown",
      "source": [
        "##변수 num에 10을 더한 값을 저장하고 출력하세요.(복합연산자 사용!)"
      ],
      "metadata": {
        "id": "VHjRG7s6C9NA"
      }
    },
    {
      "cell_type": "code",
      "source": [
        "num = 5\n",
        "num += 10\n",
        "print(num)"
      ],
      "metadata": {
        "colab": {
          "base_uri": "https://localhost:8080/"
        },
        "id": "ymuw-g-NI2TY",
        "outputId": "a03d8b91-3023-4f60-861d-b42cd3c4f05a"
      },
      "execution_count": null,
      "outputs": [
        {
          "output_type": "stream",
          "name": "stdout",
          "text": [
            "15\n"
          ]
        }
      ]
    },
    {
      "cell_type": "markdown",
      "source": [
        "##괄호를 사용하여 10 + 2를 먼저 계산하도록 수정하고 결과를 출력하세요.\n",
        "result = 10 + 2 * 3"
      ],
      "metadata": {
        "id": "SRoZ4K46DE8n"
      }
    },
    {
      "cell_type": "code",
      "source": [
        "result = (10 + 2) * 3\n",
        "result"
      ],
      "metadata": {
        "colab": {
          "base_uri": "https://localhost:8080/"
        },
        "id": "z_rqeH6IJQCg",
        "outputId": "bbb42a0d-5d40-4edf-ec09-b7b82f28ed37"
      },
      "execution_count": null,
      "outputs": [
        {
          "output_type": "execute_result",
          "data": {
            "text/plain": [
              "36"
            ]
          },
          "metadata": {},
          "execution_count": 35
        }
      ]
    },
    {
      "cell_type": "markdown",
      "source": [
        "##type()을 이용하여 정수 2의 타입을 확인해보자 --> a = 2로 변수 할당 후 type(a) 출력"
      ],
      "metadata": {
        "id": "3y2VvmV6DPPK"
      }
    },
    {
      "cell_type": "code",
      "source": [
        "a = 2\n",
        "type(a)"
      ],
      "metadata": {
        "id": "2zPbJPKDQTQY",
        "colab": {
          "base_uri": "https://localhost:8080/"
        },
        "outputId": "1f8144c2-ee71-4409-8175-1316b1882d01"
      },
      "execution_count": null,
      "outputs": [
        {
          "output_type": "execute_result",
          "data": {
            "text/plain": [
              "int"
            ]
          },
          "metadata": {},
          "execution_count": 1
        }
      ]
    },
    {
      "cell_type": "markdown",
      "source": [
        "##a를 정수형에서 실수형으로 타입을 바꾸고 확인해보자. --> float() 사용하고 type()으로 확인"
      ],
      "metadata": {
        "id": "zDSKQBk6DaJw"
      }
    },
    {
      "cell_type": "code",
      "source": [
        "a = float(a)\n",
        "type(a)"
      ],
      "metadata": {
        "id": "-abiAIXGU7-I",
        "colab": {
          "base_uri": "https://localhost:8080/"
        },
        "outputId": "9aee61da-04b3-42d7-b7df-1444037118d5"
      },
      "execution_count": null,
      "outputs": [
        {
          "output_type": "execute_result",
          "data": {
            "text/plain": [
              "float"
            ]
          },
          "metadata": {},
          "execution_count": 4
        }
      ]
    },
    {
      "cell_type": "markdown",
      "source": [
        "##29를 5로 나눈 몫과 나머지를 각각 출력하세요."
      ],
      "metadata": {
        "id": "3QxGGNtnD2Zv"
      }
    },
    {
      "cell_type": "code",
      "source": [
        "print(29 // 5, 29 % 5)"
      ],
      "metadata": {
        "colab": {
          "base_uri": "https://localhost:8080/"
        },
        "id": "8UC0RI3gU-_u",
        "outputId": "20210b29-9f27-40b3-d128-870af9c765fd"
      },
      "execution_count": null,
      "outputs": [
        {
          "output_type": "stream",
          "name": "stdout",
          "text": [
            "5 4\n"
          ]
        }
      ]
    },
    {
      "cell_type": "markdown",
      "source": [
        "##변수 pi에 3.145926535를 저장하고, 소수점 둘째 자리까지 반올림하여 출력하세요.\n",
        "pi = 3.1415926535"
      ],
      "metadata": {
        "id": "muPWLYUeD7rh"
      }
    },
    {
      "cell_type": "code",
      "source": [
        "pi = 3.1415926535\n",
        "round(pi, 2)"
      ],
      "metadata": {
        "id": "7pBr1wuOVDjx",
        "colab": {
          "base_uri": "https://localhost:8080/"
        },
        "outputId": "05202209-7036-474f-ffe5-1b30f6fee7db"
      },
      "execution_count": null,
      "outputs": [
        {
          "output_type": "execute_result",
          "data": {
            "text/plain": [
              "3.14"
            ]
          },
          "metadata": {},
          "execution_count": 5
        }
      ]
    },
    {
      "cell_type": "markdown",
      "source": [
        "#리스트 문제\n",
        "numbers = [5, 12, 7, 3, 9, 7, 1, 4, 7, 6]"
      ],
      "metadata": {
        "id": "WoF9Lx9wEHFw"
      }
    },
    {
      "cell_type": "markdown",
      "source": [
        "##numbers 리스트에 들어있는 요소의 개수를 출력하세요."
      ],
      "metadata": {
        "id": "wdGUTd1REQke"
      }
    },
    {
      "cell_type": "code",
      "source": [
        "numbers = [5, 12, 7, 3, 9, 7, 1, 4, 7, 6]\n",
        "len(numbers)"
      ],
      "metadata": {
        "colab": {
          "base_uri": "https://localhost:8080/"
        },
        "id": "st8ATBqtEOmd",
        "outputId": "645bcd99-7e51-4d8e-a671-0d2966ec255a"
      },
      "execution_count": null,
      "outputs": [
        {
          "output_type": "execute_result",
          "data": {
            "text/plain": [
              "10"
            ]
          },
          "metadata": {},
          "execution_count": 10
        }
      ]
    },
    {
      "cell_type": "markdown",
      "source": [
        "##리스트에서 숫자 7이 몇 번 등장하는지 출력하세요.(count 사용)"
      ],
      "metadata": {
        "id": "Q_tzus_WEg_M"
      }
    },
    {
      "cell_type": "code",
      "source": [
        "numbers.count(7)"
      ],
      "metadata": {
        "colab": {
          "base_uri": "https://localhost:8080/"
        },
        "id": "L53e9LbtEfF1",
        "outputId": "df19c922-3398-496a-b388-218fcb664825"
      },
      "execution_count": null,
      "outputs": [
        {
          "output_type": "execute_result",
          "data": {
            "text/plain": [
              "3"
            ]
          },
          "metadata": {},
          "execution_count": 11
        }
      ]
    },
    {
      "cell_type": "markdown",
      "source": [
        "##1.numbers 리스트를 오름차순으로 정렬한 후 출력하세요.\n",
        "##2.정렬 후 리스트를 내림차순으로 정렬하여 다시 출력하세요."
      ],
      "metadata": {
        "id": "GB9vEDgmFF9l"
      }
    },
    {
      "cell_type": "code",
      "source": [
        "numbers.sort()\n",
        "numbers"
      ],
      "metadata": {
        "colab": {
          "base_uri": "https://localhost:8080/"
        },
        "id": "9NQacpPXEmTm",
        "outputId": "ee90a288-a735-4e37-88b5-7fa68592a2dd"
      },
      "execution_count": null,
      "outputs": [
        {
          "output_type": "execute_result",
          "data": {
            "text/plain": [
              "[1, 3, 4, 5, 6, 7, 7, 7, 9, 12]"
            ]
          },
          "metadata": {},
          "execution_count": 14
        }
      ]
    },
    {
      "cell_type": "code",
      "source": [
        "numbers.reverse()\n",
        "numbers"
      ],
      "metadata": {
        "colab": {
          "base_uri": "https://localhost:8080/"
        },
        "id": "erRw5ONhGDnm",
        "outputId": "252c886a-42e0-42bd-8794-5c69c1d49b58"
      },
      "execution_count": null,
      "outputs": [
        {
          "output_type": "execute_result",
          "data": {
            "text/plain": [
              "[12, 9, 7, 7, 7, 6, 5, 4, 3, 1]"
            ]
          },
          "metadata": {},
          "execution_count": 15
        }
      ]
    },
    {
      "cell_type": "markdown",
      "source": [
        "##리스트에서 숫자 9가 위치한 인덱스를 출력하세요."
      ],
      "metadata": {
        "id": "SjA9OrxUFmae"
      }
    },
    {
      "cell_type": "code",
      "source": [
        "numbers = [5, 12, 7, 3, 9, 7, 1, 4, 7, 6]\n",
        "numbers.index(9)"
      ],
      "metadata": {
        "colab": {
          "base_uri": "https://localhost:8080/"
        },
        "id": "vKxKjy7kGA0O",
        "outputId": "637d512f-121f-4a4f-f4aa-d0b0bcdacf45"
      },
      "execution_count": null,
      "outputs": [
        {
          "output_type": "execute_result",
          "data": {
            "text/plain": [
              "4"
            ]
          },
          "metadata": {},
          "execution_count": 17
        }
      ]
    },
    {
      "cell_type": "markdown",
      "source": [
        "##1.리스트의 첫 번째 요소를 99로 변경하고 출력하세요.\n",
        "##2.리스트의 마지막 요소를 0으로 변경하고 출력하세요."
      ],
      "metadata": {
        "id": "n-kzno-YGdLM"
      }
    },
    {
      "cell_type": "code",
      "source": [
        "numbers[0] = 99\n",
        "numbers"
      ],
      "metadata": {
        "colab": {
          "base_uri": "https://localhost:8080/"
        },
        "id": "QsyRt8gYFqBu",
        "outputId": "79a7047a-5061-44b0-ca84-c0f1192e513f"
      },
      "execution_count": null,
      "outputs": [
        {
          "output_type": "execute_result",
          "data": {
            "text/plain": [
              "[99, 12, 7, 3, 9, 7, 1, 4, 7, 6]"
            ]
          },
          "metadata": {},
          "execution_count": 19
        }
      ]
    },
    {
      "cell_type": "code",
      "source": [
        "numbers = [5, 12, 7, 3, 9, 7, 1, 4, 7, 6]\n",
        "numbers[9] = 0\n",
        "numbers"
      ],
      "metadata": {
        "colab": {
          "base_uri": "https://localhost:8080/"
        },
        "id": "khXq5NmjHHnx",
        "outputId": "ea78255e-b353-4a2f-f0a9-22bf6f8bf267"
      },
      "execution_count": null,
      "outputs": [
        {
          "output_type": "execute_result",
          "data": {
            "text/plain": [
              "[5, 12, 7, 3, 9, 7, 1, 4, 7, 0]"
            ]
          },
          "metadata": {},
          "execution_count": 23
        }
      ]
    },
    {
      "cell_type": "markdown",
      "source": [
        "##인덱스 3 위치에 숫자 100을 삽입하고 출력하세요."
      ],
      "metadata": {
        "id": "SrMTuZJFHPpq"
      }
    },
    {
      "cell_type": "code",
      "source": [
        "numbers = [5, 12, 7, 3, 9, 7, 1, 4, 7, 6]\n",
        "number = numbers.insert(3, 100)\n",
        "numbers"
      ],
      "metadata": {
        "colab": {
          "base_uri": "https://localhost:8080/"
        },
        "id": "EN5J9hGaHM4F",
        "outputId": "7d391a8e-e3c1-4a8f-ce07-d51ef38e1f63"
      },
      "execution_count": null,
      "outputs": [
        {
          "output_type": "execute_result",
          "data": {
            "text/plain": [
              "[5, 12, 7, 100, 3, 9, 7, 1, 4, 7, 6]"
            ]
          },
          "metadata": {},
          "execution_count": 24
        }
      ]
    },
    {
      "cell_type": "markdown",
      "source": [
        "##1.del을 사용하여 리스트의 두 번째 요소를 삭제하고 출력하세요.\n",
        "##2.remove를 사용하여 숫자 7을 한 개 삭제하고 출력하세요.\n",
        "##3.pop을 사용하여 마지막 요소를 꺼내어 출력하고, 변경된 리스트도 출력하세요."
      ],
      "metadata": {
        "id": "b0jadYraHtGP"
      }
    },
    {
      "cell_type": "code",
      "source": [
        "# 1\n",
        "numbers = [5, 12, 7, 3, 9, 7, 1, 4, 7, 6]\n",
        "del numbers[1]\n",
        "numbers"
      ],
      "metadata": {
        "colab": {
          "base_uri": "https://localhost:8080/"
        },
        "id": "t9z61v7eHevv",
        "outputId": "d978d249-da5b-4dea-f3f9-4dc5b90a81f7"
      },
      "execution_count": null,
      "outputs": [
        {
          "output_type": "execute_result",
          "data": {
            "text/plain": [
              "[5, 7, 3, 9, 7, 1, 4, 7, 6]"
            ]
          },
          "metadata": {},
          "execution_count": 25
        }
      ]
    },
    {
      "cell_type": "code",
      "source": [
        "# 2\n",
        "numbers = [5, 12, 7, 3, 9, 7, 1, 4, 7, 6]\n",
        "numbers.remove(7)\n",
        "numbers"
      ],
      "metadata": {
        "colab": {
          "base_uri": "https://localhost:8080/"
        },
        "id": "cCy64qotIOR8",
        "outputId": "7afe67d0-7b8a-4396-8594-e3be88890f98"
      },
      "execution_count": null,
      "outputs": [
        {
          "output_type": "execute_result",
          "data": {
            "text/plain": [
              "[5, 12, 3, 9, 7, 1, 4, 7, 6]"
            ]
          },
          "metadata": {},
          "execution_count": 26
        }
      ]
    },
    {
      "cell_type": "code",
      "source": [
        "# 3\n",
        "numbers = [5, 12, 7, 3, 9, 7, 1, 4, 7, 6]\n",
        "numbers.pop()"
      ],
      "metadata": {
        "colab": {
          "base_uri": "https://localhost:8080/"
        },
        "id": "FFWH5N7WIac5",
        "outputId": "67896f0c-0f73-4a9d-9165-0a54571a598b"
      },
      "execution_count": null,
      "outputs": [
        {
          "output_type": "execute_result",
          "data": {
            "text/plain": [
              "6"
            ]
          },
          "metadata": {},
          "execution_count": 30
        }
      ]
    },
    {
      "cell_type": "code",
      "source": [
        "numbers"
      ],
      "metadata": {
        "colab": {
          "base_uri": "https://localhost:8080/"
        },
        "id": "XXEpxNEzIohf",
        "outputId": "78a587e4-2d4d-433d-b555-6d75833d71e6"
      },
      "execution_count": null,
      "outputs": [
        {
          "output_type": "execute_result",
          "data": {
            "text/plain": [
              "[5, 12, 7, 3, 9, 7, 1, 4, 7]"
            ]
          },
          "metadata": {},
          "execution_count": 29
        }
      ]
    },
    {
      "cell_type": "markdown",
      "source": [
        "##del과 remove와 pop의 차이에 대하여 간단히 적어보자."
      ],
      "metadata": {
        "id": "TGW28xiiI-nC"
      }
    },
    {
      "cell_type": "code",
      "source": [
        "# del은 인덱스로 삭제\n",
        "# remove는 값을 찾아 삭제\n",
        "# pop은 인덱스로 삭제하고 값을 반환"
      ],
      "metadata": {
        "id": "0zXQN081ItmY"
      },
      "execution_count": null,
      "outputs": []
    },
    {
      "cell_type": "markdown",
      "source": [
        "##리스트의 순서를 반대로 뒤집고 출력하세요."
      ],
      "metadata": {
        "id": "5pvv7CG1Jdbk"
      }
    },
    {
      "cell_type": "code",
      "source": [
        "numbers = [5, 12, 7, 3, 9, 7, 1, 4, 7, 6]\n",
        "numbers.reverse()\n",
        "numbers"
      ],
      "metadata": {
        "colab": {
          "base_uri": "https://localhost:8080/"
        },
        "id": "3TlBYKNRJiE9",
        "outputId": "c4c5af62-71f3-4355-f681-9a1b5e1080f1"
      },
      "execution_count": null,
      "outputs": [
        {
          "output_type": "execute_result",
          "data": {
            "text/plain": [
              "[6, 7, 4, 1, 7, 9, 3, 7, 12, 5]"
            ]
          },
          "metadata": {},
          "execution_count": 32
        }
      ]
    },
    {
      "cell_type": "markdown",
      "source": [
        "##[8, 10, 15] 리스트를 numbers 리스트에 확장하여 추가하고 출력하세요."
      ],
      "metadata": {
        "id": "zmUXPWaUKEXG"
      }
    },
    {
      "cell_type": "code",
      "source": [
        "numbers = [5, 12, 7, 3, 9, 7, 1, 4, 7, 6]\n",
        "numbers.extend([8, 10, 15])\n",
        "numbers"
      ],
      "metadata": {
        "colab": {
          "base_uri": "https://localhost:8080/"
        },
        "id": "EHAa4m7zJr6D",
        "outputId": "dea8dbc7-3b4e-4556-dc38-9077fd484340"
      },
      "execution_count": null,
      "outputs": [
        {
          "output_type": "execute_result",
          "data": {
            "text/plain": [
              "[5, 12, 7, 3, 9, 7, 1, 4, 7, 6, 8, 10, 15]"
            ]
          },
          "metadata": {},
          "execution_count": 33
        }
      ]
    },
    {
      "cell_type": "markdown",
      "source": [
        "##1.리스트에서 처음 5개의 요소만 슬라이싱하여 출력하세요.\n",
        "##2.리스트의 마지막 3개의 요소만 슬라이싱하여 출력하세요.\n",
        "##3.리스트의 짝수 번째 요소(0, 2, 4, ...)만 출력하세요."
      ],
      "metadata": {
        "id": "aRDS3Jl6KYel"
      }
    },
    {
      "cell_type": "code",
      "source": [
        "# 1\n",
        "numbers = [5, 12, 7, 3, 9, 7, 1, 4, 7, 6]\n",
        "numbers[:5]"
      ],
      "metadata": {
        "colab": {
          "base_uri": "https://localhost:8080/"
        },
        "id": "wfO3WLC5KT2Q",
        "outputId": "6248ebae-1d34-4e69-ce2b-da91684bc7f9"
      },
      "execution_count": null,
      "outputs": [
        {
          "output_type": "execute_result",
          "data": {
            "text/plain": [
              "[5, 12, 7, 3, 9]"
            ]
          },
          "metadata": {},
          "execution_count": 34
        }
      ]
    },
    {
      "cell_type": "code",
      "source": [
        "# 2\n",
        "numbers = [5, 12, 7, 3, 9, 7, 1, 4, 7, 6]\n",
        "numbers[7:]"
      ],
      "metadata": {
        "colab": {
          "base_uri": "https://localhost:8080/"
        },
        "id": "35kPV_5WLICW",
        "outputId": "0ee3597a-fc5c-4115-84bc-c94b6614731e"
      },
      "execution_count": null,
      "outputs": [
        {
          "output_type": "execute_result",
          "data": {
            "text/plain": [
              "[4, 7, 6]"
            ]
          },
          "metadata": {},
          "execution_count": 35
        }
      ]
    },
    {
      "cell_type": "code",
      "source": [
        "# 3\n",
        "numbers = [5, 12, 7, 3, 9, 7, 1, 4, 7, 6]\n",
        "print(numbers[::2])"
      ],
      "metadata": {
        "colab": {
          "base_uri": "https://localhost:8080/"
        },
        "id": "RVFNmUstLaf6",
        "outputId": "029020d1-09f8-4d74-ee0e-38f667ed808d"
      },
      "execution_count": null,
      "outputs": [
        {
          "output_type": "stream",
          "name": "stdout",
          "text": [
            "[5, 7, 9, 1, 7]\n"
          ]
        }
      ]
    },
    {
      "cell_type": "markdown",
      "source": [
        "##슈퍼마켓 재고 관리 시스템\n",
        "슈퍼마켓에는 여러 종류의 과일이 있다. 현재 슈퍼마켓의 과일 재고는 다음과 같다.\n",
        "\n",
        "fruits = [\"사과\", \"바나나\", \"포도\", \"오렌지\", \"수박\"]\n",
        " 1. 손님이 와서 \"포도\"를 구매했다. 리스트에서 \"포도\"를 삭제하고 출력하세요.\n",
        " 2. 새로운 과일 \"망고\"가 입고되었다. 리스트에 추가하고 출력하세요.\n",
        " 3. 가게 사장이 과일을 가나다순으로 정리하려고 한다. 정렬해서 출력하세요.\n",
        " 4. \"바나나\"가 얼마나 남아 있는지 확인하려고 한다. 리스트에서 \"바나나\"가 몇 개 있는지 출력하세요."
      ],
      "metadata": {
        "id": "27TocJPiLogN"
      }
    },
    {
      "cell_type": "code",
      "source": [
        "# 1\n",
        "fruits = [\"사과\", \"바나나\", \"포도\", \"오렌지\", \"수박\"]\n",
        "del fruits[2]\n",
        "fruits"
      ],
      "metadata": {
        "colab": {
          "base_uri": "https://localhost:8080/"
        },
        "id": "CscVvQeDMM98",
        "outputId": "651749da-8845-413f-f85f-3a2a581f8c7a"
      },
      "execution_count": null,
      "outputs": [
        {
          "output_type": "execute_result",
          "data": {
            "text/plain": [
              "['사과', '바나나', '오렌지', '수박']"
            ]
          },
          "metadata": {},
          "execution_count": 36
        }
      ]
    },
    {
      "cell_type": "code",
      "source": [
        "# 2\n",
        "fruits = [\"사과\", \"바나나\", \"포도\", \"오렌지\", \"수박\"]\n",
        "fruits.append(\"망고\")\n",
        "fruits"
      ],
      "metadata": {
        "colab": {
          "base_uri": "https://localhost:8080/"
        },
        "id": "rgFv77aWMp6p",
        "outputId": "effff078-7fca-4a1b-d5c2-675149da6f01"
      },
      "execution_count": null,
      "outputs": [
        {
          "output_type": "execute_result",
          "data": {
            "text/plain": [
              "['사과', '바나나', '포도', '오렌지', '수박', '망고']"
            ]
          },
          "metadata": {},
          "execution_count": 37
        }
      ]
    },
    {
      "cell_type": "code",
      "source": [
        "# 3\n",
        "fruits = [\"사과\", \"바나나\", \"포도\", \"오렌지\", \"수박\"]\n",
        "fruits.sort()\n",
        "fruits"
      ],
      "metadata": {
        "colab": {
          "base_uri": "https://localhost:8080/"
        },
        "id": "Ui_xe0rGM4bh",
        "outputId": "34a3051a-54c7-42f6-e197-21f5b984620f"
      },
      "execution_count": null,
      "outputs": [
        {
          "output_type": "execute_result",
          "data": {
            "text/plain": [
              "['바나나', '사과', '수박', '오렌지', '포도']"
            ]
          },
          "metadata": {},
          "execution_count": 39
        }
      ]
    },
    {
      "cell_type": "code",
      "source": [
        "# 4\n",
        "fruits = [\"사과\", \"바나나\", \"포도\", \"오렌지\", \"수박\"]\n",
        "fruits.count(\"바나나\")"
      ],
      "metadata": {
        "colab": {
          "base_uri": "https://localhost:8080/"
        },
        "id": "_9KRxO_TM9xj",
        "outputId": "33f5f39d-8231-4edc-fcdb-02a7290e27c0"
      },
      "execution_count": null,
      "outputs": [
        {
          "output_type": "execute_result",
          "data": {
            "text/plain": [
              "1"
            ]
          },
          "metadata": {},
          "execution_count": 41
        }
      ]
    }
  ]
}