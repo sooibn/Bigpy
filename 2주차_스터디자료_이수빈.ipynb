{
  "nbformat": 4,
  "nbformat_minor": 0,
  "metadata": {
    "colab": {
      "provenance": [],
      "authorship_tag": "ABX9TyOVf5UF9Gg84S6p8bNxBPSj",
      "include_colab_link": true
    },
    "kernelspec": {
      "name": "python3",
      "display_name": "Python 3"
    },
    "language_info": {
      "name": "python"
    }
  },
  "cells": [
    {
      "cell_type": "markdown",
      "metadata": {
        "id": "view-in-github",
        "colab_type": "text"
      },
      "source": [
        "<a href=\"https://colab.research.google.com/github/sooibn/Bigpy/blob/main/2%EC%A3%BC%EC%B0%A8_%EC%8A%A4%ED%84%B0%EB%94%94%EC%9E%90%EB%A3%8C_%EC%9D%B4%EC%88%98%EB%B9%88.ipynb\" target=\"_parent\"><img src=\"https://colab.research.google.com/assets/colab-badge.svg\" alt=\"Open In Colab\"/></a>"
      ]
    },
    {
      "cell_type": "markdown",
      "source": [
        "# 02-4 튜플 자료형"
      ],
      "metadata": {
        "id": "68VwH_dnsWOk"
      }
    },
    {
      "cell_type": "code",
      "execution_count": 49,
      "metadata": {
        "id": "DW2E2kdNsFn8"
      },
      "outputs": [],
      "source": [
        "t1 = ()\n",
        "t2 = (1,) # 1개의 요소를 가질 때는 요소 뒤에 쉼표(,)\n",
        "t3 = (1, 2, 3)\n",
        "t4 = 1, 2, 3 # 소괄호 생략 가능\n",
        "t5 = ('a', 'b', ('ab', 'cd'))"
      ]
    },
    {
      "cell_type": "markdown",
      "source": [
        "인덱싱하기"
      ],
      "metadata": {
        "id": "cl__CsxKuRbD"
      }
    },
    {
      "cell_type": "code",
      "source": [
        "t1 = (1, 2, 'a', 'b')\n",
        "t1[0]"
      ],
      "metadata": {
        "id": "s6kKz7VBsuuW",
        "colab": {
          "base_uri": "https://localhost:8080/"
        },
        "outputId": "9e13b986-7c61-4dae-c50e-28b9a1f8f2e7"
      },
      "execution_count": 50,
      "outputs": [
        {
          "output_type": "execute_result",
          "data": {
            "text/plain": [
              "1"
            ]
          },
          "metadata": {},
          "execution_count": 50
        }
      ]
    },
    {
      "cell_type": "markdown",
      "source": [
        "슬라이싱하기"
      ],
      "metadata": {
        "id": "ZPa1u3fIuh0F"
      }
    },
    {
      "cell_type": "code",
      "source": [
        "t1 = (1, 2, 'a', 'b')\n",
        "t1[1:]"
      ],
      "metadata": {
        "colab": {
          "base_uri": "https://localhost:8080/"
        },
        "id": "Znq60RlrubQG",
        "outputId": "3bdbba62-53b7-46d8-c1c4-7ac95f4d28de"
      },
      "execution_count": 51,
      "outputs": [
        {
          "output_type": "execute_result",
          "data": {
            "text/plain": [
              "(2, 'a', 'b')"
            ]
          },
          "metadata": {},
          "execution_count": 51
        }
      ]
    },
    {
      "cell_type": "markdown",
      "source": [
        "튜플 더하기"
      ],
      "metadata": {
        "id": "wc0gh86zupwt"
      }
    },
    {
      "cell_type": "code",
      "source": [
        "t1 = (1, 2, 'a', 'b')\n",
        "t2 = (3, 4)\n",
        "t3 = t1 + t2\n",
        "t3"
      ],
      "metadata": {
        "colab": {
          "base_uri": "https://localhost:8080/"
        },
        "id": "sKsDWmhLunve",
        "outputId": "ea2ebc8a-0949-475f-dca7-1ae51f4149f8"
      },
      "execution_count": 52,
      "outputs": [
        {
          "output_type": "execute_result",
          "data": {
            "text/plain": [
              "(1, 2, 'a', 'b', 3, 4)"
            ]
          },
          "metadata": {},
          "execution_count": 52
        }
      ]
    },
    {
      "cell_type": "markdown",
      "source": [
        "튜플 곱하기"
      ],
      "metadata": {
        "id": "zrWRJZInu1UT"
      }
    },
    {
      "cell_type": "code",
      "source": [
        " t2 = (3, 4)\n",
        " t3 = t2 * 3\n",
        " t3"
      ],
      "metadata": {
        "colab": {
          "base_uri": "https://localhost:8080/"
        },
        "id": "E_dj1e5WuwmV",
        "outputId": "073409e9-de63-47cf-9648-476cb057081b"
      },
      "execution_count": 53,
      "outputs": [
        {
          "output_type": "execute_result",
          "data": {
            "text/plain": [
              "(3, 4, 3, 4, 3, 4)"
            ]
          },
          "metadata": {},
          "execution_count": 53
        }
      ]
    },
    {
      "cell_type": "markdown",
      "source": [
        "튜플 길이 구하기"
      ],
      "metadata": {
        "id": "G9e6xN9zu7aI"
      }
    },
    {
      "cell_type": "code",
      "source": [
        "t1 = (1, 2, 'a', 'b')\n",
        "len(t1)"
      ],
      "metadata": {
        "colab": {
          "base_uri": "https://localhost:8080/"
        },
        "id": "KwCpVZLWu6ge",
        "outputId": "5db77b44-6020-4d2f-e238-9ca88aa459cd"
      },
      "execution_count": 54,
      "outputs": [
        {
          "output_type": "execute_result",
          "data": {
            "text/plain": [
              "4"
            ]
          },
          "metadata": {},
          "execution_count": 54
        }
      ]
    },
    {
      "cell_type": "markdown",
      "source": [
        "# 02-5 딕셔너리 자료형"
      ],
      "metadata": {
        "id": "pTZrD6MsvCZu"
      }
    },
    {
      "cell_type": "code",
      "source": [
        "dic = {'name': 'pey', 'phone': '010-9999-1234', 'birth': '1118'}\n",
        "a = {1: 'hi'} # Key로 정숫값 1, Value로 문자열 'hi'\n",
        "b = {'a': [1, 2, 3]} # Value에 리스트도 가능"
      ],
      "metadata": {
        "id": "15ofP3ZnvAw1"
      },
      "execution_count": 55,
      "outputs": []
    },
    {
      "cell_type": "markdown",
      "source": [
        "딕셔너리 쌍 추가하기"
      ],
      "metadata": {
        "id": "TWMfAFQtv0vH"
      }
    },
    {
      "cell_type": "code",
      "source": [
        "a = {1: 'a'}\n",
        "a[2] = 'b' # 딕셔너리 a에 {2: 'b'} 딕셔너리 쌍 추가\n",
        "a"
      ],
      "metadata": {
        "colab": {
          "base_uri": "https://localhost:8080/"
        },
        "id": "Aw9OJ4CpvXsO",
        "outputId": "b075ac26-990d-40a9-c061-be2bc925d9c3"
      },
      "execution_count": 56,
      "outputs": [
        {
          "output_type": "execute_result",
          "data": {
            "text/plain": [
              "{1: 'a', 2: 'b'}"
            ]
          },
          "metadata": {},
          "execution_count": 56
        }
      ]
    },
    {
      "cell_type": "markdown",
      "source": [
        "딕셔너리 요소 삭제하기"
      ],
      "metadata": {
        "id": "0Aghrpl-wUBs"
      }
    },
    {
      "cell_type": "code",
      "source": [
        "del a[1]\n",
        "a # del a[key]를 입력하면 지정한 Key에 해당하는 {Key: Value} 쌍 삭제"
      ],
      "metadata": {
        "colab": {
          "base_uri": "https://localhost:8080/"
        },
        "id": "kQ7NJuZCwKyv",
        "outputId": "f02428a7-0336-4204-ee4f-c447fdeb548a"
      },
      "execution_count": 57,
      "outputs": [
        {
          "output_type": "execute_result",
          "data": {
            "text/plain": [
              "{2: 'b'}"
            ]
          },
          "metadata": {},
          "execution_count": 57
        }
      ]
    },
    {
      "cell_type": "markdown",
      "source": [
        "딕셔너리에서 Key를 사용해 Value 얻기"
      ],
      "metadata": {
        "id": "-g22mA5dwpAO"
      }
    },
    {
      "cell_type": "code",
      "source": [
        "grade = {'pey': 10, 'julliet': 99}\n",
        "grade['pey'] # 딕셔너리_변수_이름[Key] 사용"
      ],
      "metadata": {
        "colab": {
          "base_uri": "https://localhost:8080/"
        },
        "id": "fJy2HOvawk2C",
        "outputId": "65d731ad-57eb-43a2-c814-9cf29ae196d4"
      },
      "execution_count": 58,
      "outputs": [
        {
          "output_type": "execute_result",
          "data": {
            "text/plain": [
              "10"
            ]
          },
          "metadata": {},
          "execution_count": 58
        }
      ]
    },
    {
      "cell_type": "code",
      "source": [
        "a = {'a': 1, 'b': 2}\n",
        "a['a'] # a[Key]로 Key에 해당하는 Value를 얻을 수 있음"
      ],
      "metadata": {
        "colab": {
          "base_uri": "https://localhost:8080/"
        },
        "id": "E5-YtpkwxLGu",
        "outputId": "229b5673-f692-4c91-be75-10214c78148b"
      },
      "execution_count": 59,
      "outputs": [
        {
          "output_type": "execute_result",
          "data": {
            "text/plain": [
              "1"
            ]
          },
          "metadata": {},
          "execution_count": 59
        }
      ]
    },
    {
      "cell_type": "markdown",
      "source": [
        "딕셔너리 만들 때 주의할 사항"
      ],
      "metadata": {
        "id": "EYOSp84sxcjh"
      }
    },
    {
      "cell_type": "code",
      "source": [
        "# 딕셔너리에서 Key는 고유한 값이므로 Key가 중복되었을 때 1개를 제외한 나머지 Key: Vlaue 값이 모두 무시됨\n",
        "# Key에 리스트는 쓸 수 없음"
      ],
      "metadata": {
        "id": "iaim6HJWwygW"
      },
      "execution_count": 60,
      "outputs": []
    },
    {
      "cell_type": "markdown",
      "source": [
        "딕셔너리 관련 함수"
      ],
      "metadata": {
        "id": "_qLCqjpnyPT7"
      }
    },
    {
      "cell_type": "markdown",
      "source": [
        "Key 리스트 만들기 - keys"
      ],
      "metadata": {
        "id": "3CGdu6A3yYWc"
      }
    },
    {
      "cell_type": "code",
      "source": [
        "a = {'name': 'pey', 'phone': '010-9999-1234', 'birth': '1118'}\n",
        "a.keys() # a.keys()는 딕셔너리 a의 Key만을 모아 dict_keys 객체를 리턴"
      ],
      "metadata": {
        "colab": {
          "base_uri": "https://localhost:8080/"
        },
        "id": "cSZGti_vyVl3",
        "outputId": "c32b399a-240c-43e6-d148-c413f0871389"
      },
      "execution_count": 61,
      "outputs": [
        {
          "output_type": "execute_result",
          "data": {
            "text/plain": [
              "dict_keys(['name', 'phone', 'birth'])"
            ]
          },
          "metadata": {},
          "execution_count": 61
        }
      ]
    },
    {
      "cell_type": "code",
      "source": [
        "list(a.keys()) # dict_keys 객체를 리스트로 변환"
      ],
      "metadata": {
        "colab": {
          "base_uri": "https://localhost:8080/"
        },
        "id": "L-lapWgnytD6",
        "outputId": "8c4010a2-c8df-4a45-9f02-0510dbbf96d1"
      },
      "execution_count": 62,
      "outputs": [
        {
          "output_type": "execute_result",
          "data": {
            "text/plain": [
              "['name', 'phone', 'birth']"
            ]
          },
          "metadata": {},
          "execution_count": 62
        }
      ]
    },
    {
      "cell_type": "markdown",
      "source": [
        "Value 리스트 만들기 - values"
      ],
      "metadata": {
        "id": "N3wIAGAvy87x"
      }
    },
    {
      "cell_type": "code",
      "source": [
        "a.values() # Value만 얻고 싶다면 dict_values 객체를 리턴"
      ],
      "metadata": {
        "colab": {
          "base_uri": "https://localhost:8080/"
        },
        "id": "1hSDRmcVy6aH",
        "outputId": "cefef164-45b5-416d-ff5b-7adc8f7434df"
      },
      "execution_count": 63,
      "outputs": [
        {
          "output_type": "execute_result",
          "data": {
            "text/plain": [
              "dict_values(['pey', '010-9999-1234', '1118'])"
            ]
          },
          "metadata": {},
          "execution_count": 63
        }
      ]
    },
    {
      "cell_type": "markdown",
      "source": [
        "Key, Value 쌍 얻기 - items"
      ],
      "metadata": {
        "id": "jG56AFI2zOJK"
      }
    },
    {
      "cell_type": "code",
      "source": [
        "a.items() # Key와 Value의 쌍을 튜플로 묶은 값을 dict_items 객체로 리턴"
      ],
      "metadata": {
        "colab": {
          "base_uri": "https://localhost:8080/"
        },
        "id": "-YwVf38yzJWY",
        "outputId": "f54f0f25-a676-41a1-c8fa-83231d6f654d"
      },
      "execution_count": 64,
      "outputs": [
        {
          "output_type": "execute_result",
          "data": {
            "text/plain": [
              "dict_items([('name', 'pey'), ('phone', '010-9999-1234'), ('birth', '1118')])"
            ]
          },
          "metadata": {},
          "execution_count": 64
        }
      ]
    },
    {
      "cell_type": "markdown",
      "source": [
        "Key: Value 쌍 모두 지우기 - clear"
      ],
      "metadata": {
        "id": "R_1-pknLzpbz"
      }
    },
    {
      "cell_type": "code",
      "source": [
        "a.clear() # clear 함수는 딕셔너리 안의 모든 요소 삭제\n",
        "a"
      ],
      "metadata": {
        "colab": {
          "base_uri": "https://localhost:8080/"
        },
        "id": "pzlZ1MqWzop4",
        "outputId": "33075d49-15f4-456b-c06e-25617858fc72"
      },
      "execution_count": 65,
      "outputs": [
        {
          "output_type": "execute_result",
          "data": {
            "text/plain": [
              "{}"
            ]
          },
          "metadata": {},
          "execution_count": 65
        }
      ]
    },
    {
      "cell_type": "markdown",
      "source": [
        "Key로 Value 얻기 - get"
      ],
      "metadata": {
        "id": "iamTUPhhzz8M"
      }
    },
    {
      "cell_type": "code",
      "source": [
        "a = {'name': 'pey', 'phone': '010-9999-1234', 'birth': '1118'}\n",
        "a.get('name') # get(x) 함수는 x라는 Key에 대응되는 Value를 리턴, a['name']와 동일한 결괏값 리턴"
      ],
      "metadata": {
        "colab": {
          "base_uri": "https://localhost:8080/",
          "height": 35
        },
        "id": "bKuXfc25zzTF",
        "outputId": "f8be9d4e-3a7f-4b88-e935-09929d3168d9"
      },
      "execution_count": 66,
      "outputs": [
        {
          "output_type": "execute_result",
          "data": {
            "text/plain": [
              "'pey'"
            ],
            "application/vnd.google.colaboratory.intrinsic+json": {
              "type": "string"
            }
          },
          "metadata": {},
          "execution_count": 66
        }
      ]
    },
    {
      "cell_type": "code",
      "source": [
        "print(a.get('nokey')) # 딕셔너리 안에 찾으려는 Key가 없을 경우 None 리턴\n",
        "a['nokey'] # 오류 발생"
      ],
      "metadata": {
        "colab": {
          "base_uri": "https://localhost:8080/",
          "height": 184
        },
        "id": "HqGaWGDz0asQ",
        "outputId": "8d1d364b-aad1-49e4-e1b7-13e2f4d2ab36"
      },
      "execution_count": 67,
      "outputs": [
        {
          "output_type": "stream",
          "name": "stdout",
          "text": [
            "None\n"
          ]
        },
        {
          "output_type": "error",
          "ename": "KeyError",
          "evalue": "'nokey'",
          "traceback": [
            "\u001b[0;31m---------------------------------------------------------------------------\u001b[0m",
            "\u001b[0;31mKeyError\u001b[0m                                  Traceback (most recent call last)",
            "\u001b[0;32m<ipython-input-67-0a2389342a55>\u001b[0m in \u001b[0;36m<cell line: 0>\u001b[0;34m()\u001b[0m\n\u001b[1;32m      1\u001b[0m \u001b[0mprint\u001b[0m\u001b[0;34m(\u001b[0m\u001b[0ma\u001b[0m\u001b[0;34m.\u001b[0m\u001b[0mget\u001b[0m\u001b[0;34m(\u001b[0m\u001b[0;34m'nokey'\u001b[0m\u001b[0;34m)\u001b[0m\u001b[0;34m)\u001b[0m \u001b[0;31m# 딕셔너리 안에 찾으려는 Key가 없을 경우 None 리턴\u001b[0m\u001b[0;34m\u001b[0m\u001b[0;34m\u001b[0m\u001b[0m\n\u001b[0;32m----> 2\u001b[0;31m \u001b[0ma\u001b[0m\u001b[0;34m[\u001b[0m\u001b[0;34m'nokey'\u001b[0m\u001b[0;34m]\u001b[0m \u001b[0;31m# 오류 발생\u001b[0m\u001b[0;34m\u001b[0m\u001b[0;34m\u001b[0m\u001b[0m\n\u001b[0m",
            "\u001b[0;31mKeyError\u001b[0m: 'nokey'"
          ]
        }
      ]
    },
    {
      "cell_type": "code",
      "source": [
        "a.get('nokey', 'foo') # get(x, '디폴트 값)"
      ],
      "metadata": {
        "id": "ssvFezdf08dH"
      },
      "execution_count": null,
      "outputs": []
    },
    {
      "cell_type": "markdown",
      "source": [
        "해당 Key가 딕셔너리 안에 있는지 조사하기 - in"
      ],
      "metadata": {
        "id": "Jys_QfwL1Ph9"
      }
    },
    {
      "cell_type": "code",
      "source": [
        "a = {'name': 'pey', 'phone': '010-9999-1234', 'birth': '1118'}\n",
        "'name' in a # 'name' 문자열은 a 딕셔너리의 Key 중 하나이므로 참(True) 리턴"
      ],
      "metadata": {
        "id": "FQ2c3XAR1M7v"
      },
      "execution_count": null,
      "outputs": []
    },
    {
      "cell_type": "code",
      "source": [
        "'email' in a # 'email'은 a 딕셔너리 안에 존재하지 않는 Key이므로 거짓(False) 리턴"
      ],
      "metadata": {
        "id": "2P-8fP6H1rmJ"
      },
      "execution_count": null,
      "outputs": []
    },
    {
      "cell_type": "markdown",
      "source": [
        "# 02-6 집합 자료형"
      ],
      "metadata": {
        "id": "sZMaMqMT13S_"
      }
    },
    {
      "cell_type": "code",
      "source": [
        "s1 = set([1, 2, 3]) # 집합 자료형은 set()의 괄호 안에 리스트를 입력해 만들거나\n",
        "s2 = set(\"Hello\") # 문자열을 입력해 만들 수 있음"
      ],
      "metadata": {
        "id": "JAsHQ7Il12kP"
      },
      "execution_count": null,
      "outputs": []
    },
    {
      "cell_type": "code",
      "source": [
        "s = set() # 비어 있는 집합 자료형"
      ],
      "metadata": {
        "id": "ZyZPE0-k2RBo"
      },
      "execution_count": null,
      "outputs": []
    },
    {
      "cell_type": "markdown",
      "source": [
        "집합 자료형의 특징"
      ],
      "metadata": {
        "id": "tARLRGZK2gwQ"
      }
    },
    {
      "cell_type": "code",
      "source": [
        "s2 = set(\"Hello\") # 중복을 허용하지 않는다, 순서가 없다\n",
        "s2"
      ],
      "metadata": {
        "id": "as_3ti_B2VRp"
      },
      "execution_count": null,
      "outputs": []
    },
    {
      "cell_type": "code",
      "source": [
        "# set 자료형에 저장된 값을 인덱싱으로 접근하려면 리스트나 튜플로 변환한 후에 해야 함\n",
        "s1 = set([1, 2, 3])\n",
        "l1 = list(s1)\n",
        "t1 = tuple(s1)"
      ],
      "metadata": {
        "id": "MhqYF3zl2pkB"
      },
      "execution_count": null,
      "outputs": []
    },
    {
      "cell_type": "markdown",
      "source": [
        "교집합, 합집합, 차집합 구하기"
      ],
      "metadata": {
        "id": "L2VMFLSU3MeL"
      }
    },
    {
      "cell_type": "code",
      "source": [
        "s1 = set([1, 2, 3, 4, 5, 6])\n",
        "s2 = set([4, 5, 6, 7, 8, 9])"
      ],
      "metadata": {
        "id": "tqg2Ep4x3Kuv"
      },
      "execution_count": null,
      "outputs": []
    },
    {
      "cell_type": "markdown",
      "source": [
        "교집합 구하기"
      ],
      "metadata": {
        "id": "CQFl4guY3XIp"
      }
    },
    {
      "cell_type": "code",
      "source": [
        "s1 & s2"
      ],
      "metadata": {
        "id": "chWJO7LY3Wo2"
      },
      "execution_count": null,
      "outputs": []
    },
    {
      "cell_type": "code",
      "source": [
        "s1.intersection(s2)"
      ],
      "metadata": {
        "id": "4sDcA-Ql3bMm"
      },
      "execution_count": null,
      "outputs": []
    },
    {
      "cell_type": "markdown",
      "source": [
        "합집합 구하기"
      ],
      "metadata": {
        "id": "gspotrRZ3hCl"
      }
    },
    {
      "cell_type": "code",
      "source": [
        "s1 | s2"
      ],
      "metadata": {
        "id": "9WGj0AGm3gTW"
      },
      "execution_count": null,
      "outputs": []
    },
    {
      "cell_type": "code",
      "source": [
        "s1.union(s2)"
      ],
      "metadata": {
        "id": "cB2lXsiM3jiG"
      },
      "execution_count": null,
      "outputs": []
    },
    {
      "cell_type": "markdown",
      "source": [
        "차집합 구하기"
      ],
      "metadata": {
        "id": "dR0ezwK83pQC"
      }
    },
    {
      "cell_type": "code",
      "source": [
        "s1 - s2"
      ],
      "metadata": {
        "id": "Nh0jA8Uj3orW"
      },
      "execution_count": null,
      "outputs": []
    },
    {
      "cell_type": "code",
      "source": [
        "s1.difference(s2)"
      ],
      "metadata": {
        "id": "Q_qXy2zG3tEP"
      },
      "execution_count": null,
      "outputs": []
    },
    {
      "cell_type": "markdown",
      "source": [
        "값 1개 추가하기 - add"
      ],
      "metadata": {
        "id": "o32cbdwa3wm4"
      }
    },
    {
      "cell_type": "code",
      "source": [
        "s1 = set([1, 2, 3])\n",
        "s1.add(4)\n",
        "s1"
      ],
      "metadata": {
        "id": "cnDY9pyc3vQW"
      },
      "execution_count": null,
      "outputs": []
    },
    {
      "cell_type": "markdown",
      "source": [
        "값 여러 개 추가하기 - update"
      ],
      "metadata": {
        "id": "DP5xwvXp32vQ"
      }
    },
    {
      "cell_type": "code",
      "source": [
        "s1 = set([1, 2, 3])\n",
        "s1.update([4, 5, 6])\n",
        "s1"
      ],
      "metadata": {
        "id": "pyK7tdcF310A"
      },
      "execution_count": null,
      "outputs": []
    },
    {
      "cell_type": "markdown",
      "source": [
        "특정 값 제거하기 - remove"
      ],
      "metadata": {
        "id": "AxHZY0vn4BVw"
      }
    },
    {
      "cell_type": "code",
      "source": [
        "s1 = set([1, 2, 3])\n",
        "s1.remove(2)\n",
        "s1"
      ],
      "metadata": {
        "id": "BHGn6YTc4Arm"
      },
      "execution_count": null,
      "outputs": []
    }
  ]
}