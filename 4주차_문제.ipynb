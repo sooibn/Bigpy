{
  "cells": [
    {
      "cell_type": "markdown",
      "metadata": {
        "id": "view-in-github",
        "colab_type": "text"
      },
      "source": [
        "<a href=\"https://colab.research.google.com/github/sooibn/Bigpy/blob/main/4%EC%A3%BC%EC%B0%A8_%EB%AC%B8%EC%A0%9C.ipynb\" target=\"_parent\"><img src=\"https://colab.research.google.com/assets/colab-badge.svg\" alt=\"Open In Colab\"/></a>"
      ]
    },
    {
      "cell_type": "markdown",
      "metadata": {
        "id": "L5d3LCKQMbC-"
      },
      "source": [
        "while문으로 Hello World를 10번 출력하시오.\n",
        "(조건문에는 숫자형 변수를 포함하시오)"
      ]
    },
    {
      "cell_type": "code",
      "execution_count": 2,
      "metadata": {
        "colab": {
          "base_uri": "https://localhost:8080/"
        },
        "id": "3nhXAf7NMbC_",
        "outputId": "26a24c61-2ea0-4b26-dde1-c998009ec8e3"
      },
      "outputs": [
        {
          "output_type": "stream",
          "name": "stdout",
          "text": [
            "Hello World\n",
            "Hello World\n",
            "Hello World\n",
            "Hello World\n",
            "Hello World\n",
            "Hello World\n",
            "Hello World\n",
            "Hello World\n",
            "Hello World\n",
            "Hello World\n"
          ]
        }
      ],
      "source": [
        "a = 0\n",
        "while a < 10:\n",
        "    print(\"Hello World\")\n",
        "    a += 1"
      ]
    },
    {
      "cell_type": "markdown",
      "metadata": {
        "id": "cJJU_ohbMbC_"
      },
      "source": [
        "input()함수로 입력값을 받아 조건이 맞을 시 Hello World를 5번 출력하시오"
      ]
    },
    {
      "cell_type": "code",
      "execution_count": 3,
      "metadata": {
        "colab": {
          "base_uri": "https://localhost:8080/"
        },
        "id": "wEWy9a0AMbC_",
        "outputId": "a7c7bc4f-6659-4187-8a23-b6f3fb1effc5"
      },
      "outputs": [
        {
          "output_type": "stream",
          "name": "stdout",
          "text": [
            "3\n",
            "Hello World\n",
            "Hello World\n",
            "Hello World\n",
            "Hello World\n",
            "Hello World\n"
          ]
        }
      ],
      "source": [
        "number = int(input())\n",
        "a = 0\n",
        "while a < 5:\n",
        "    print(\"Hello World\")\n",
        "    a += 1"
      ]
    },
    {
      "cell_type": "markdown",
      "metadata": {
        "id": "UvwT5-TmMbC_"
      },
      "source": [
        "while True:로 시작하는 반복문을 Hello World 출력을 5번 반복 후 루프에서 빠져나가도록 작성하시오."
      ]
    },
    {
      "cell_type": "code",
      "source": [
        "a = 0\n",
        "while True:\n",
        "    print(\"Hello World\")\n",
        "    a += 1\n",
        "    if a == 5:\n",
        "        break"
      ],
      "metadata": {
        "colab": {
          "base_uri": "https://localhost:8080/"
        },
        "id": "vZ6g55uTbnKg",
        "outputId": "5008fb7f-a351-4214-df27-aae6adc992ae"
      },
      "execution_count": 5,
      "outputs": [
        {
          "output_type": "stream",
          "name": "stdout",
          "text": [
            "Hello World\n",
            "Hello World\n",
            "Hello World\n",
            "Hello World\n",
            "Hello World\n"
          ]
        }
      ]
    },
    {
      "cell_type": "markdown",
      "metadata": {
        "id": "2Y8xGZGvMbDA"
      },
      "source": [
        "while 반복문을 사용하여 1부터 10까지 숫자를 출력할 때 짝수는 출력하지 않고 시작점으로 돌아가도록 작성하시오."
      ]
    },
    {
      "cell_type": "code",
      "execution_count": 9,
      "metadata": {
        "colab": {
          "base_uri": "https://localhost:8080/"
        },
        "id": "BaXYGO_VMbDA",
        "outputId": "c973c56f-1e30-4a5e-bb4f-b9e17f7175ec"
      },
      "outputs": [
        {
          "output_type": "stream",
          "name": "stdout",
          "text": [
            "1\n",
            "3\n",
            "5\n",
            "7\n",
            "9\n"
          ]
        }
      ],
      "source": [
        "a = 0\n",
        "while a < 10:\n",
        "  a = a + 1\n",
        "  if a % 2 == 0:\n",
        "    continue\n",
        "  else:\n",
        "    print(a)"
      ]
    },
    {
      "cell_type": "markdown",
      "metadata": {
        "id": "-JEkP_kFMbDA"
      },
      "source": [
        "for 문을 이용하여 구구단 2단을 출력하시오"
      ]
    },
    {
      "cell_type": "code",
      "execution_count": 10,
      "metadata": {
        "colab": {
          "base_uri": "https://localhost:8080/"
        },
        "id": "ZdMeQNDcMbDA",
        "outputId": "f2474d44-34a8-4ba7-f5fa-0da0b8341704"
      },
      "outputs": [
        {
          "output_type": "stream",
          "name": "stdout",
          "text": [
            "2 * 1 = 2\n",
            "2 * 2 = 4\n",
            "2 * 3 = 6\n",
            "2 * 4 = 8\n",
            "2 * 5 = 10\n",
            "2 * 6 = 12\n",
            "2 * 7 = 14\n",
            "2 * 8 = 16\n",
            "2 * 9 = 18\n"
          ]
        }
      ],
      "source": [
        "for i in range(1, 10):\n",
        "    print(\"2 *\", i, \"=\", 2 * i)"
      ]
    },
    {
      "cell_type": "markdown",
      "metadata": {
        "id": "MM5rpB9nMbDB"
      },
      "source": [
        "for 문을 이용하여 ['바나나', '사과', '수박']리스트의 요소를 순서대로 하나씩 출력하시오."
      ]
    },
    {
      "cell_type": "code",
      "execution_count": 11,
      "metadata": {
        "colab": {
          "base_uri": "https://localhost:8080/"
        },
        "id": "MYtNabtxMbDB",
        "outputId": "906e131d-4882-4839-d47d-2c954708c149"
      },
      "outputs": [
        {
          "output_type": "stream",
          "name": "stdout",
          "text": [
            "바나나\n",
            "사과\n",
            "수박\n"
          ]
        }
      ],
      "source": [
        "list = ['바나나', '사과', '수박']\n",
        "for i in list:\n",
        "    print(i)"
      ]
    },
    {
      "cell_type": "markdown",
      "metadata": {
        "id": "XcXrh8phMbDB"
      },
      "source": [
        "for문과 range 함수를 이용하여 -7에서 -3까지 출력하시오(range함수에는 음수가 들어가도록 하시오)"
      ]
    },
    {
      "cell_type": "code",
      "execution_count": 12,
      "metadata": {
        "colab": {
          "base_uri": "https://localhost:8080/"
        },
        "id": "BILkpimEMbDB",
        "outputId": "17559009-d740-4836-bf25-aad30426d3fe"
      },
      "outputs": [
        {
          "output_type": "stream",
          "name": "stdout",
          "text": [
            "-7\n",
            "-6\n",
            "-5\n",
            "-4\n",
            "-3\n"
          ]
        }
      ],
      "source": [
        "for i in range(-7, -2):\n",
        "    print(i)"
      ]
    },
    {
      "cell_type": "markdown",
      "metadata": {
        "id": "CxrYcLfjMbDB"
      },
      "source": [
        "for문과 range만을 이용하여 2부터 10까지 짝수만 출력하시오(반복문 내에서 연산 수행 x)"
      ]
    },
    {
      "cell_type": "code",
      "execution_count": 13,
      "metadata": {
        "colab": {
          "base_uri": "https://localhost:8080/"
        },
        "id": "EQaa7qpgMbDB",
        "outputId": "33139730-fdfc-4943-fc54-a3bd770a8d05"
      },
      "outputs": [
        {
          "output_type": "stream",
          "name": "stdout",
          "text": [
            "2\n",
            "4\n",
            "6\n",
            "8\n",
            "10\n"
          ]
        }
      ],
      "source": [
        "for i in range(2,11,2):\n",
        "  print(i)"
      ]
    },
    {
      "cell_type": "markdown",
      "metadata": {
        "id": "yOY0BNNmMbDB"
      },
      "source": [
        "for문을 이용하여 Hello world 문자열을 한 글자씩 출력하시오"
      ]
    },
    {
      "cell_type": "code",
      "execution_count": 14,
      "metadata": {
        "colab": {
          "base_uri": "https://localhost:8080/"
        },
        "id": "N-Uqg7EvMbDB",
        "outputId": "15a38212-4018-43e8-e675-f8bce21087dc"
      },
      "outputs": [
        {
          "output_type": "stream",
          "name": "stdout",
          "text": [
            "H\n",
            "e\n",
            "l\n",
            "l\n",
            "o\n",
            " \n",
            "w\n",
            "o\n",
            "r\n",
            "l\n",
            "d\n"
          ]
        }
      ],
      "source": [
        "for i in \"Hello world\":\n",
        "    print(i)"
      ]
    },
    {
      "cell_type": "markdown",
      "metadata": {
        "id": "JjVnwa2oMbDB"
      },
      "source": [
        "본인의 이름을 입력받아 내 이름은 ㅇㅇㅇ입니다를 반환하는 함수를 만드시오"
      ]
    },
    {
      "cell_type": "code",
      "execution_count": 16,
      "metadata": {
        "colab": {
          "base_uri": "https://localhost:8080/"
        },
        "id": "-dOpLCX-MbDB",
        "outputId": "b5474ddf-b849-4ec7-849c-6d0ead4f6732"
      },
      "outputs": [
        {
          "output_type": "stream",
          "name": "stdout",
          "text": [
            "이수빈\n",
            "내 이름은 이수빈 입니다\n"
          ]
        }
      ],
      "source": [
        "def introduce(name):\n",
        "    print(\"내 이름은\", name, \"입니다\")\n",
        "str = input()\n",
        "introduce(str)"
      ]
    },
    {
      "cell_type": "markdown",
      "metadata": {
        "id": "alHfh6omMbDB"
      },
      "source": [
        "두 숫자를 입력하면 더하기 빼기 곱하기 나누기를 순서대로 출력하는 함수를 만드시오"
      ]
    },
    {
      "cell_type": "code",
      "execution_count": 22,
      "metadata": {
        "id": "rQz5AmeSMbDB"
      },
      "outputs": [],
      "source": [
        "def cal(a, b):\n",
        "    print(a + b)\n",
        "    print(a - b)\n",
        "    print(a * b)\n",
        "    print(a / b)"
      ]
    },
    {
      "cell_type": "markdown",
      "metadata": {
        "id": "fbn5Pc8fMbDC"
      },
      "source": [
        "입력의 수를 모르는 상태에서 입력을 모두 더하여 반환하는 함수를 만드시오"
      ]
    },
    {
      "cell_type": "code",
      "execution_count": 21,
      "metadata": {
        "id": "sYogPl1jMbDC"
      },
      "outputs": [],
      "source": [
        "def sum(*args):\n",
        "    result = 0\n",
        "    for i in args:\n",
        "        result += i\n",
        "    return result"
      ]
    },
    {
      "cell_type": "markdown",
      "metadata": {
        "id": "yjFdtvOSMbDC"
      },
      "source": [
        "2개의 리스트를 입력받을 때 두 리스트의 길이가 같은지 불 자료형으로 반환하시오"
      ]
    },
    {
      "cell_type": "code",
      "execution_count": 20,
      "metadata": {
        "id": "kl5cbYZpMbDC"
      },
      "outputs": [],
      "source": [
        "def list(list1, list2):\n",
        "  if len(list1) == len(list2):\n",
        "    return True\n",
        "  else:\n",
        "    return False"
      ]
    },
    {
      "cell_type": "markdown",
      "metadata": {
        "id": "tAPcS8M1MbDC"
      },
      "source": [
        "두개의 리스트를 입력받고 위에서 만든 함수를 이용해 두 리스트의 길이가 같다고 판별되면 두 리스트를 이용하여 딕셔너리를 만들어 반환하는 함수를 만드시오"
      ]
    },
    {
      "cell_type": "code",
      "execution_count": 25,
      "metadata": {
        "id": "rJF1UZHFMbDC"
      },
      "outputs": [],
      "source": [
        "def dic_make(list1, list2):\n",
        "  if len(list1) == len(list2):\n",
        "    dic = dict(zip(list1, list2))\n",
        "    return dic"
      ]
    },
    {
      "cell_type": "markdown",
      "metadata": {
        "id": "KB9F855AMbDC"
      },
      "source": [
        "글로벌 변수를 이용하여 plus() 함수가 수행될 때마다 변수에 5가 더해지도록 함수를 정의하시오"
      ]
    },
    {
      "cell_type": "code",
      "execution_count": 31,
      "metadata": {
        "colab": {
          "base_uri": "https://localhost:8080/"
        },
        "id": "C9RyJ2q7MbDC",
        "outputId": "71bf0bfd-f3fb-45ed-f447-4c23b68bc3ee"
      },
      "outputs": [
        {
          "output_type": "stream",
          "name": "stdout",
          "text": [
            "3\n",
            "8\n"
          ]
        }
      ],
      "source": [
        "def plus():\n",
        "  global total\n",
        "  total = total + 5\n",
        "  return total\n",
        "total = int(input())\n",
        "print(plus())"
      ]
    }
  ],
  "metadata": {
    "kernelspec": {
      "display_name": "base",
      "language": "python",
      "name": "python3"
    },
    "language_info": {
      "codemirror_mode": {
        "name": "ipython",
        "version": 3
      },
      "file_extension": ".py",
      "mimetype": "text/x-python",
      "name": "python",
      "nbconvert_exporter": "python",
      "pygments_lexer": "ipython3",
      "version": "3.12.4"
    },
    "colab": {
      "provenance": [],
      "include_colab_link": true
    }
  },
  "nbformat": 4,
  "nbformat_minor": 0
}